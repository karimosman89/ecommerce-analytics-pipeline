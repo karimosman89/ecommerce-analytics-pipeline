# exploratory_data_analysis.ipynb

import pandas as pd
import matplotlib.pyplot as plt
import seaborn as sns

# Load Data
sales_data = pd.read_csv('../data/Sale_Report.csv')
pl_data = pd.read_csv('../data/P_L_March_2021.csv')

# Date parsing
sales_data['Date'] = pd.to_datetime(sales_data['Date'])

# Sales trend over time
sales_by_date = sales_data.groupby(sales_data['Date'].dt.to_period('M'))['Amount'].sum()

plt.figure(figsize=(10, 6))
sales_by_date.plot(kind='line', marker='o')
plt.title('Sales Trend Over Time')
plt.xlabel('Month')
plt.ylabel('Total Sales Amount')
plt.show()

# Category-wise sales distribution
category_sales = sales_data.groupby('Category')['Amount'].sum().sort_values()

plt.figure(figsize=(10, 6))
category_sales.plot(kind='barh', color='orange')
plt.title('Sales by Product Category')
plt.xlabel('Total Sales Amount')
plt.ylabel('Category')
plt.show()

# Platform-wise pricing box plot
plt.figure(figsize=(10, 6))
sns.boxplot(data=pl_data, x='Category', y='Amazon MRP', palette='Blues')
plt.title('Amazon MRP Distribution by Category')
plt.show()

# Sales amount by category and stock level
plt.figure(figsize=(10, 6))
sns.scatterplot(data=sales_data, x='Stock', y='Amount', hue='Category', size='Stock', palette='coolwarm')
plt.title('Sales Amount by Stock and Category')
plt.show()
