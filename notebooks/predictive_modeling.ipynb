# predictive_modeling.ipynb

import pandas as pd
from sklearn.model_selection import train_test_split
from sklearn.ensemble import RandomForestRegressor
from sklearn.metrics import mean_squared_error
import matplotlib.pyplot as plt

# Load Data
featured_data = pd.read_csv('../data/featured_sales_data.csv')

# Selecting relevant features and target variable
X = featured_data[['Size', 'Color', 'Amazon MRP', 'Flipkart MRP', 'Stock']]
y = featured_data['Amount']

# Splitting the data into training and test sets
X_train, X_test, y_train, y_test = train_test_split(X, y, test_size=0.2, random_state=42)

# Training a Random Forest Regressor model
model = RandomForestRegressor(n_estimators=100, random_state=42)
model.fit(X_train, y_train)

# Predictions and evaluation
y_pred = model.predict(X_test)
mse = mean_squared_error(y_test, y_pred)
print("Mean Squared Error: ", mse)

# Feature Importance
plt.figure(figsize=(8, 6))
plt.barh(X.columns, model.feature_importances_)
plt.title('Feature Importance in Sales Prediction')
plt.show()

# Actual vs Predicted
plt.figure(figsize=(8, 6))
plt.scatter(y_test, y_pred, alpha=0.5)
plt.xlabel('Actual Sales Amount')
plt.ylabel('Predicted Sales Amount')
plt.title('Actual vs Predicted Sales Amount')
plt.show()
