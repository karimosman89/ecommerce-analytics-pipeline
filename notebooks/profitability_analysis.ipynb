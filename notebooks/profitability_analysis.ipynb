# profitability_analysis.ipynb

import pandas as pd
import matplotlib.pyplot as plt
import seaborn as sns

# Load Data
cloud_data = pd.read_csv('../data/Cloud_Warehouse_Compersion_Chart.csv')
pl_data = pd.read_csv('../data/P_L_March_2021.csv')

# Merge data for profitability analysis
profitability_data = pd.merge(cloud_data, pl_data, left_on='SKU Code', right_on='Sku')

# Calculate profit margin for Shiprocket and INCREFF
profitability_data['Profit Margin Shiprocket'] = (profitability_data['Shiprocket'] - profitability_data['TP 1']) / profitability_data['Shiprocket'] * 100
profitability_data['Profit Margin INCREFF'] = (profitability_data['INCREFF'] - profitability_data['TP 2']) / profitability_data['INCREFF'] * 100

# Visualize Shiprocket vs INCREFF Profit Margins
plt.figure(figsize=(10, 6))
sns.histplot(profitability_data['Profit Margin Shiprocket'], color='blue', label='Shiprocket', kde=True)
sns.histplot(profitability_data['Profit Margin INCREFF'], color='red', label='INCREFF', kde=True)
plt.title('Profit Margin Comparison (Shiprocket vs INCREFF)')
plt.legend()
plt.show()

# Platform-wise MRP comparison
platform_mrps = ['Ajio MRP', 'Amazon MRP', 'Flipkart MRP', 'Myntra MRP', 'Paytm MRP']

plt.figure(figsize=(10, 6))
for platform in platform_mrps:
    sns.histplot(profitability_data[platform], kde=True, label=platform)
plt.title('MRP Distribution Across Platforms')
plt.legend()
plt.show()

# Visualizing platform-based profitability (Ajio vs Amazon)
plt.figure(figsize=(10, 6))
sns.scatterplot(data=profitability_data, x='Ajio MRP', y='Amazon MRP', hue='Category', palette='Set1')
plt.title('Ajio vs Amazon MRP Profitability by Category')
plt.show()
