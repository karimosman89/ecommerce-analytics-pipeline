# data_analysis.ipynb

import pandas as pd
import matplotlib.pyplot as plt
import seaborn as sns

# Load Data
cloud_data = pd.read_csv('../data/Cloud_Warehouse_Compersion_Chart.csv')
sales_data = pd.read_csv('../data/Sale_Report.csv')
pl_data = pd.read_csv('../data/P_L_March_2021.csv')

# View the first few rows of each dataset
display(cloud_data.head())
display(sales_data.head())
display(pl_data.head())

# Check for missing values
print("Cloud Data Missing Values:\n", cloud_data.isnull().sum())
print("Sales Data Missing Values:\n", sales_data.isnull().sum())
print("P&L Data Missing Values:\n", pl_data.isnull().sum())

# Check data types
print("Cloud Data Types:\n", cloud_data.dtypes)
print("Sales Data Types:\n", sales_data.dtypes)
print("P&L Data Types:\n", pl_data.dtypes)

# Basic statistics for numeric columns
print("Cloud Data Stats:\n", cloud_data.describe())
print("Sales Data Stats:\n", sales_data.describe())
print("P&L Data Stats:\n", pl_data.describe())

# Visualizing null values
sns.heatmap(cloud_data.isnull(), cbar=False, cmap='viridis')
plt.title('Missing Values in Cloud Data')
plt.show()

# Check for outliers in the sales amount
plt.figure(figsize=(8, 6))
sns.boxplot(data=sales_data, x='Category', y='Stock')
plt.title('Outliers in Stock Levels by Category')
plt.show()
